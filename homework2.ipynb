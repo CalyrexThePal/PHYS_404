{
 "cells": [
  {
   "cell_type": "code",
   "execution_count": null,
   "id": "d0f9e3f3-14e0-4981-a11a-3251f7d006c9",
   "metadata": {},
   "outputs": [],
   "source": [
    "# Xuanyi Wu, PHYS 404, Section 404, Homework 2\n",
    "\n",
    "from pylab import * # import Matplotlib\n",
    "from numpy import * # import numpy library\n",
    "\n",
    "print('Green: n-th term = 31')\n",
    "print('Orange: n-th term = 21')\n",
    "print('Blue: n-th term = 11')\n",
    "\n",
    "title('Homework 2: Sin Function Plot'); xlabel('x'); ylabel('f(x)')\n",
    "\n",
    "# Graph range from -pi to pi, with delX given below\n",
    "xMin = -pi; xMax = pi; nPoints = 500.0\n",
    "delX = (xMax - xMin)/nPoints\n",
    "\n",
    "x = arange(xMin, xMax, delX)\n",
    "y = pi/2.0\n",
    "y1 = y2 = y3 = y\n",
    "\n",
    "# Graph 1\n",
    "# this n does not indicate the n-th term give\n",
    "# rather nth term is referred as (2.0*n+1)\n",
    "# offset is the loop iteration range \n",
    "offset = 5\n",
    "for n in range(offset+1):\n",
    "    y1 += 2.0*((sin((2*n+1)*x))/(2*n+1))\n",
    "plot(x,y1)\n",
    "\n",
    "# Graph 2\n",
    "offset = 10\n",
    "for n in range(offset+1):\n",
    "    y2 += 2.0*((sin((2*n+1)*x))/(2*n+1))\n",
    "plot(x, y2)\n",
    "\n",
    "# Graph 3\n",
    "offset = 15\n",
    "for n in range(offset+1):\n",
    "    y3 += 2.0* ((sin((2*n+1)*x))/(2*n+1))\n",
    "plot(x, y3)\n",
    "\n",
    "grid(True)\n",
    "show()\n"
   ]
  },
  {
   "cell_type": "code",
   "execution_count": null,
   "id": "28b932a9-1b5f-4bcd-843e-6d9c845574e6",
   "metadata": {},
   "outputs": [],
   "source": []
  }
 ],
 "metadata": {
  "kernelspec": {
   "display_name": "Python 3 (ipykernel)",
   "language": "python",
   "name": "python3"
  },
  "language_info": {
   "codemirror_mode": {
    "name": "ipython",
    "version": 3
   },
   "file_extension": ".py",
   "mimetype": "text/x-python",
   "name": "python",
   "nbconvert_exporter": "python",
   "pygments_lexer": "ipython3",
   "version": "3.10.8"
  }
 },
 "nbformat": 4,
 "nbformat_minor": 5
}
