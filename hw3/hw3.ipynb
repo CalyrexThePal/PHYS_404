{
 "cells": [
  {
   "cell_type": "markdown",
   "id": "2981557d-5f88-4b25-bdc5-942bd7cc9ffd",
   "metadata": {},
   "source": [
    "# PHYS 404 Homework 3 2/3/2023\n",
    "## Question 1: \n",
    "## Calculate and plot the ratio F(n)/F(n-1) with respect to n using memorization method."
   ]
  },
  {
   "cell_type": "code",
   "execution_count": 1,
   "id": "b415563c-8733-43d6-b886-5de83f8d5fda",
   "metadata": {},
   "outputs": [
    {
     "data": {
      "image/png": "[encoded data removed]",
      "text/plain": [
       "<Figure size 640x480 with 1 Axes>"
      ]
     },
     "metadata": {},
     "output_type": "display_data"
    }
   ],
   "source": [
    "# Xuanyi Wu, PHYS 404, Homework 2\n",
    "\n",
    "# import the matplotlib library \n",
    "import matplotlib.pyplot as plt\n",
    "from numpy import * # import numpy library\n",
    "\n",
    "# Memorization method for Fibonacci number given in the class\n",
    "# which we already discussed\n",
    "def fib3(n, table):\n",
    "    # base case for 0 and 1\n",
    "    if n == 0 or n == 1:\n",
    "        table[n] = n\n",
    "    # if the value has not been calculated, calculate it \n",
    "    if table[n] is None:\n",
    "    # recursive calls: keep calling to find the base case\n",
    "        table[n] = fib3(n-1, table)+fib3(n-2, table)  \n",
    "    return table[n]\n",
    "\n",
    "# set the range for n\n",
    "n = 100\n",
    "# populate array list, SIZE = 101\n",
    "table = [None]*(n+1)\n",
    "# initialize empty list for all the F(n)/F(n-1) value\n",
    "fnOfnm1 = []\n",
    "for i in range (2, n+1):\n",
    "    fnOfnm1.append(fib3(i, table)/fib3(i-1,table))\n",
    "\n",
    "plt.plot(fnOfnm1)\n",
    "plt.title('F(n)/F(n-1) with Respect to n')\n",
    "plt.xlabel('n')\n",
    "plt.ylabel('F(n)/F(n-1)')\n",
    "plt.grid(True)"
   ]
  },
  {
   "cell_type": "markdown",
   "id": "f7f2229f-5f29-44f3-af5f-d34402a69991",
   "metadata": {
    "tags": []
   },
   "source": [
    "## Question 2:\n",
    "\n",
    "## a) Use the Recursion method, Tabulation method, and matrix method to calculate the time spent for different n (e.g. 1, 10, 100, 1000, 10000, … uniform in the log space). (caution: recursion method will break when n>100)\n",
    "\n",
    "### Recursion:"
   ]
  },
  {
   "cell_type": "code",
   "execution_count": 2,
   "id": "49b04e1d-95ef-43f2-a022-b24205751369",
   "metadata": {},
   "outputs": [
    {
     "name": "stdout",
     "output_type": "stream",
     "text": [
      "Recursion Method:\n",
      "n = 1, fib(1) =  1\n",
      "runtime: --- 0.0001723766326904297 seconds ---\n",
      "n = 1, fib(10) =  55\n",
      "runtime: --- 0.0003643035888671875 seconds ---\n"
     ]
    }
   ],
   "source": [
    "import time # library for time info\n",
    "# define recursive method\n",
    "# simple but has exponentially running time, and slow for large n, n cannot too large (stack limit)\n",
    "def fib_recur(n):      \n",
    "    if n == 0: return 0\n",
    "    elif n == 1: return 1\n",
    "    else: return fib_recur(n-1)+fib_recur(n-2)\n",
    "\n",
    "print('Recursion Method:')\n",
    "start_time = time.time()\n",
    "print('n = 1, fib(1) = ', str(fib_recur(1)))\n",
    "print('runtime: ' + \"--- %s seconds ---\" % (time.time() - start_time))\n",
    "print('n = 1, fib(10) = ', str(fib_recur(10)))\n",
    "print('runtime: ' + \"--- %s seconds ---\" % (time.time() - start_time))"
   ]
  },
  {
   "cell_type": "markdown",
   "id": "a283338d-0897-43dd-87af-a1e3195d37d3",
   "metadata": {},
   "source": [
    "### Tabulation:"
   ]
  },
  {
   "cell_type": "code",
   "execution_count": 3,
   "id": "a388233d-a64b-4c71-a547-98f13ff82095",
   "metadata": {},
   "outputs": [
    {
     "name": "stdout",
     "output_type": "stream",
     "text": [
      "Tabulation Method:\n",
      "n = 1, fib(1) =  1\n",
      "runtime: --- 0.0002677440643310547 seconds ---\n",
      "n = 10, fib(10) =  55\n",
      "runtime: --- 0.00034999847412109375 seconds ---\n",
      "n = 100, fib(100) =  354224848179261915075\n",
      "runtime: --- 0.00015354156494140625 seconds ---\n",
      "n = 1000, fib(1000) =  43466557686937456435688527675040625802564660517371780402481729089536555417949051890403879840079255169295922593080322634775209689623239873322471161642996440906533187938298969649928516003704476137795166849228875\n",
      "runtime: --- 0.0005626678466796875 seconds ---\n",
      "n = 10000, fib(10000) =  33644764876431783266621612005107543310302148460680063906564769974680081442166662368155595513633734025582065332680836159373734790483865268263040892463056431887354544369559827491606602099884183933864652731300088830269235673613135117579297437854413752130520504347701602264758318906527890855154366159582987279682987510631200575428783453215515103870818298969791613127856265033195487140214287532698187962046936097879900350962302291026368131493195275630227837628441540360584402572114334961180023091208287046088923962328835461505776583271252546093591128203925285393434620904245248929403901706233888991085841065183173360437470737908552631764325733993712871937587746897479926305837065742830161637408969178426378624212835258112820516370298089332099905707920064367426202389783111470054074998459250360633560933883831923386783056136435351892133279732908133732642652633989763922723407882928177953580570993691049175470808931841056146322338217465637321248226383092103297701648054726243842374862411453093812206564914032751086643394517512161526545361333111314042436854805106765843493523836959653428071768775328348234345557366719731392746273629108210679280784718035329131176778924659089938635459327894523777674406192240337638674004021330343297496902028328145933418826817683893072003634795623117103101291953169794607632737589253530772552375943788434504067715555779056450443016640119462580972216729758615026968443146952034614932291105970676243268515992834709891284706740862008587135016260312071903172086094081298321581077282076353186624611278245537208532365305775956430072517744315051539600905168603220349163222640885248852433158051534849622434848299380905070483482449327453732624567755879089187190803662058009594743150052402532709746995318770724376825907419939632265984147498193609285223945039707165443156421328157688908058783183404917434556270520223564846495196112460268313970975069382648706613264507665074611512677522748621598642530711298441182622661057163515069260029861704945425047491378115154139941550671256271197133252763631939606902895650288268608362241082050562430701794976171121233066073310059947366875\n",
      "runtime: --- 0.0072863101959228516 seconds ---\n"
     ]
    }
   ],
   "source": [
    "def fib_tabu(n):\n",
    "    # populate table array\n",
    "    table=[0]*(n+1)\n",
    "    # set the first and second element to be 1 and zero\n",
    "    table[0] = 0\n",
    "    table[1] = 1\n",
    "\n",
    "    # for n+1 amount of iterations, add the previous two element to be the current element\n",
    "    for n in range(2, n+1):\n",
    "        table[n] = table[n-1] + table[n-2]\n",
    "    # return the value store in index found, that summed by it's previous two    \n",
    "    return table[n]\n",
    "\n",
    "print('Tabulation Method:')\n",
    "start_time = time.time()\n",
    "print('n = 1, fib(1) = ', str(fib_tabu(1)))\n",
    "print('runtime: ' + \"--- %s seconds ---\" % (time.time() - start_time))\n",
    "start_time = time.time()\n",
    "print('n = 10, fib(10) = ', str(fib_tabu(10)))\n",
    "print('runtime: ' + \"--- %s seconds ---\" % (time.time() - start_time))\n",
    "start_time = time.time()\n",
    "print('n = 100, fib(100) = ', str(fib_tabu(100)))\n",
    "print('runtime: ' + \"--- %s seconds ---\" % (time.time() - start_time))\n",
    "start_time = time.time()\n",
    "print('n = 1000, fib(1000) = ', str(fib_tabu(1000)))\n",
    "print('runtime: ' + \"--- %s seconds ---\" % (time.time() - start_time))\n",
    "start_time = time.time()\n",
    "print('n = 10000, fib(10000) = ', str(fib_tabu(10000)))\n",
    "print('runtime: ' + \"--- %s seconds ---\" % (time.time() - start_time))"
   ]
  },
  {
   "cell_type": "markdown",
   "id": "f66c337e-e202-4bbd-b0e7-0d69b9dec715",
   "metadata": {},
   "source": [
    "### Matrix:"
   ]
  },
  {
   "cell_type": "code",
   "execution_count": 36,
   "id": "1cd85baa-0282-40d9-aff7-509896704bbb",
   "metadata": {},
   "outputs": [
    {
     "name": "stdout",
     "output_type": "stream",
     "text": [
      "Tabulation Method:\n",
      "n = 1, fib(1) =  1\n",
      "runtime: --- 0.00020956993103027344 seconds ---\n",
      "n = 10, fib(10) =  55\n",
      "runtime: --- 0.00015878677368164062 seconds ---\n",
      "n = 100, fib(100) =  354224848179261915075\n",
      "runtime: --- 0.00023031234741210938 seconds ---\n",
      "n = 1000, fib(1000) =  43466557686937456435688527675040625802564660517371780402481729089536555417949051890403879840079255169295922593080322634775209689623239873322471161642996440906533187938298969649928516003704476137795166849228875\n",
      "runtime: --- 0.00021266937255859375 seconds ---\n",
      "n = 10000, fib(10000) =  33644764876431783266621612005107543310302148460680063906564769974680081442166662368155595513633734025582065332680836159373734790483865268263040892463056431887354544369559827491606602099884183933864652731300088830269235673613135117579297437854413752130520504347701602264758318906527890855154366159582987279682987510631200575428783453215515103870818298969791613127856265033195487140214287532698187962046936097879900350962302291026368131493195275630227837628441540360584402572114334961180023091208287046088923962328835461505776583271252546093591128203925285393434620904245248929403901706233888991085841065183173360437470737908552631764325733993712871937587746897479926305837065742830161637408969178426378624212835258112820516370298089332099905707920064367426202389783111470054074998459250360633560933883831923386783056136435351892133279732908133732642652633989763922723407882928177953580570993691049175470808931841056146322338217465637321248226383092103297701648054726243842374862411453093812206564914032751086643394517512161526545361333111314042436854805106765843493523836959653428071768775328348234345557366719731392746273629108210679280784718035329131176778924659089938635459327894523777674406192240337638674004021330343297496902028328145933418826817683893072003634795623117103101291953169794607632737589253530772552375943788434504067715555779056450443016640119462580972216729758615026968443146952034614932291105970676243268515992834709891284706740862008587135016260312071903172086094081298321581077282076353186624611278245537208532365305775956430072517744315051539600905168603220349163222640885248852433158051534849622434848299380905070483482449327453732624567755879089187190803662058009594743150052402532709746995318770724376825907419939632265984147498193609285223945039707165443156421328157688908058783183404917434556270520223564846495196112460268313970975069382648706613264507665074611512677522748621598642530711298441182622661057163515069260029861704945425047491378115154139941550671256271197133252763631939606902895650288268608362241082050562430701794976171121233066073310059947366875\n",
      "runtime: --- 0.0009303092956542969 seconds ---\n"
     ]
    }
   ],
   "source": [
    "def arrpow(arr, n):\n",
    "    yarr=arr\n",
    "    if n<1:\n",
    "        print('n needs to be larger than 1')\n",
    "    if n==1:\n",
    "        return arr\n",
    "    yarr = arrpow(arr, n//2)\n",
    "    yarr = [[yarr[0][0]*yarr[0][0]+yarr[0][1]*yarr[1][0],yarr[0][0]*yarr[0][1]+yarr[0][1]*yarr[1][1]],\n",
    "            [yarr[1][0]*yarr[0][0]+yarr[1][1]*yarr[1][0],yarr[1][0]*yarr[0][1]+yarr[1][1]*yarr[1][1]]]\n",
    "    if n%2:\n",
    "        yarr=[[yarr[0][0]*arr[0][0]+yarr[0][1]*arr[1][0],yarr[0][0]*arr[0][1]+yarr[0][1]*arr[1][1]],\n",
    "            [yarr[1][0]*arr[0][0]+yarr[1][1]*arr[1][0],yarr[1][0]*arr[0][1]+yarr[1][1]*arr[1][1]]]\n",
    "    return yarr\n",
    "\n",
    "def fib_matr(n):\n",
    "    arr= [[1,1],[1,0]]\n",
    "    f=arrpow(arr,n-1)[0][0]\n",
    "    return f\n",
    "\n",
    "print('Tabulation Method:')\n",
    "start_time = time.time()\n",
    "print('n = 1, fib(1) = ', str(fib_matr(2)))\n",
    "print('runtime: ' + \"--- %s seconds ---\" % (time.time() - start_time))\n",
    "start_time = time.time()\n",
    "print('n = 10, fib(10) = ', str(fib_matr(10)))\n",
    "print('runtime: ' + \"--- %s seconds ---\" % (time.time() - start_time))\n",
    "start_time = time.time()\n",
    "print('n = 100, fib(100) = ', str(fib_matr(100)))\n",
    "print('runtime: ' + \"--- %s seconds ---\" % (time.time() - start_time))\n",
    "start_time = time.time()\n",
    "print('n = 1000, fib(1000) = ', str(fib_matr(1000)))\n",
    "print('runtime: ' + \"--- %s seconds ---\" % (time.time() - start_time))\n",
    "start_time = time.time()\n",
    "print('n = 10000, fib(10000) = ', str(fib_matr(10000)))\n",
    "print('runtime: ' + \"--- %s seconds ---\" % (time.time() - start_time))"
   ]
  },
  {
   "cell_type": "markdown",
   "id": "8c0102d4-9cbf-40f6-b06a-be357d31ebb4",
   "metadata": {
    "tags": []
   },
   "source": [
    "##  b) For each method, output the time and n into a file.\n",
    "\n",
    "### Recursion:"
   ]
  },
  {
   "cell_type": "code",
   "execution_count": 7,
   "id": "b82c4178-3d0e-4a40-9ca7-5575448df57e",
   "metadata": {},
   "outputs": [
    {
     "name": "stdout",
     "output_type": "stream",
     "text": [
      "1 9.5367431640625e-06\n",
      "2 4.76837158203125e-06\n",
      "3 4.0531158447265625e-06\n",
      "4 4.291534423828125e-06\n",
      "5 6.9141387939453125e-06\n",
      "6 1.0013580322265625e-05\n",
      "7 1.3113021850585938e-05\n",
      "8 2.193450927734375e-05\n",
      "9 3.528594970703125e-05\n",
      "10 7.009506225585938e-05\n",
      "11 9.393692016601562e-05\n",
      "12 0.0001575946807861328\n",
      "13 0.00024962425231933594\n",
      "14 0.0003094673156738281\n",
      "15 0.0003261566162109375\n",
      "16 0.0005576610565185547\n",
      "17 0.0010385513305664062\n",
      "18 0.0014202594757080078\n",
      "19 0.0034291744232177734\n",
      "20 0.00845193862915039\n",
      "21 0.011444091796875\n",
      "22 0.019033432006835938\n",
      "23 0.034815073013305664\n",
      "24 0.06425762176513672\n",
      "25 0.10032033920288086\n",
      "26 0.15428447723388672\n",
      "27 0.2532963752746582\n",
      "28 0.4016993045806885\n",
      "29 0.6428103446960449\n",
      "30 1.0026073455810547\n"
     ]
    }
   ],
   "source": [
    "import numpy as np\n",
    "import time\n",
    "\n",
    "# initialize a ifstream variable, and create a file\n",
    "file = open('recursion_runtime_n.txt', 'w')\n",
    "# populate array from 1 to 31\n",
    "n2 = np.arange(1, 31, 1)\n",
    "time2 = np.zeros(n2.size)\n",
    "\n",
    "for i in range(n2.size):\n",
    "    start_time = time.time()\n",
    "    # each i generates a time element stored in the list\n",
    "    temp = fib_recur(n2[i])\n",
    "    time2[i] = time.time()-start_time\n",
    "    print(n2[i],time2[i])\n",
    "\n",
    "for i in range(n2.size):\n",
    "    info = str(n2[i]) + ' ' + str(time2[i]) + '\\n'\n",
    "    file.write(info)\n",
    "\n",
    "file.close()"
   ]
  },
  {
   "cell_type": "markdown",
   "id": "8f41d02b-4ea8-423c-a3c4-2782e3ff0907",
   "metadata": {},
   "source": [
    "### Tabulation"
   ]
  },
  {
   "cell_type": "code",
   "execution_count": 50,
   "id": "eacc0697-736c-44ba-9fbc-26b8f8b8897a",
   "metadata": {},
   "outputs": [],
   "source": [
    "# populate a lager list\n",
    "n3 = np.arange(100, 100000, 100)\n",
    "time3 = np.zeros(n3.size)\n",
    "\n",
    "# similar structure as above\n",
    "file3 = open('tabulation_runtime_n.txt', 'w')\n",
    "\n",
    "for i in range(n3.size):\n",
    "    start_time = time.time()\n",
    "    temp = fib_tabu(n3[i])\n",
    "    time3[i] = time.time() - start_time\n",
    "    # print(n3[i],time3[i])\n",
    "\n",
    "for i in range(n3.size):\n",
    "    info = str(n3[i]) + ' ' + str(time3[i]) + '\\n'\n",
    "    file3.write(info)\n",
    "\n",
    "file3.close()"
   ]
  },
  {
   "cell_type": "markdown",
   "id": "6a93dca4-66f1-4b3e-9faa-37fc1f29de01",
   "metadata": {},
   "source": [
    "### Matrix:"
   ]
  },
  {
   "cell_type": "code",
   "execution_count": 54,
   "id": "e5f5dc4a-d281-4a0b-9597-12816f0cfbf5",
   "metadata": {},
   "outputs": [],
   "source": [
    "# do the same file-write for matrix method\n",
    "n4 = np.arange(100, 100000, 100)\n",
    "time4 = np.zeros(n4.size)\n",
    "\n",
    "file4 = open('matrix_runtime_n.txt', 'w')\n",
    "\n",
    "for i in range(n4.size):\n",
    "    start_time = time.time()\n",
    "    temp = fib_matr(n4[i])\n",
    "    time4[i] = time.time() - start_time\n",
    "    \n",
    "for i in range(n4.size):\n",
    "    info = str(n4[i]) + ' ' + str(time4[i]) + '\\n'\n",
    "    file4.write(info)\n",
    "                \n",
    "file4.close()"
   ]
  },
  {
   "cell_type": "markdown",
   "id": "1b142afb-c7c1-4e95-a5b1-dc5ee025c9ef",
   "metadata": {
    "tags": []
   },
   "source": [
    "## c) Read from the file and plot log(time) (y-axis) vs. log(n) (x-axis) for different methods. \n",
    "\n",
    "### Recursion:"
   ]
  },
  {
   "cell_type": "code",
   "execution_count": 55,
   "id": "fe736477-942a-4fd4-9afc-5fc3e93badc6",
   "metadata": {},
   "outputs": [
    {
     "data": {
      "text/plain": [
       "<matplotlib.legend.Legend at 0x7f54d428bdc0>"
      ]
     },
     "execution_count": 55,
     "metadata": {},
     "output_type": "execute_result"
    },
    {
     "data": {
      "image/png": "[encoded data removed]",
      "text/plain": [
       "<Figure size 640x480 with 1 Axes>"
      ]
     },
     "metadata": {},
     "output_type": "display_data"
    }
   ],
   "source": [
    "import math\n",
    "# basic information for the plot\n",
    "plt.title('Fibonacci Input N vs. Runtime Comparison')\n",
    "plt.xlabel('log(n)')\n",
    "plt.ylabel('log(time)')\n",
    "\n",
    "# initialize two lists, one for n, one for time\n",
    "plot_n = []\n",
    "plot_time = []\n",
    "# use context manager to read file\n",
    "with open('recursion_runtime_n.txt', 'r') as file:\n",
    "    # while file is not reached the eof\n",
    "    for line in file:\n",
    "        # read line by line, and split them into n and time\n",
    "        r_n, r_time = line.split()\n",
    "        # append both of these element into their corresponding list\n",
    "        plot_n.append(int(r_n))\n",
    "        plot_time.append(float(r_time))\n",
    "# finish reading, just plot it\n",
    "plt.plot(np.log(plot_n), np.log(plot_time), label = 'Recursion')\n",
    "\n",
    "# same syntax for Tabulation\n",
    "plot_n2 = []\n",
    "plot_time2 = []\n",
    "with open('tabulation_runtime_n.txt', 'r') as file:\n",
    "    for line in file:\n",
    "        r_n2, r_time2 = line.split()\n",
    "        plot_n2.append(int(r_n2))\n",
    "        plot_time2.append(float(r_time2))\n",
    "        \n",
    "plt.plot(np.log(plot_n2), np.log(plot_time2), label = 'Tabulation')\n",
    "\n",
    "# Maxtrix\n",
    "plot_n3 = []\n",
    "plot_time3 = []\n",
    "with open('matrix_runtime_n.txt', 'r') as file:\n",
    "    for line in file:\n",
    "        r_n3, r_time3 = line.split()\n",
    "        plot_n3.append(int(r_n3))\n",
    "        plot_time3.append(float(r_time3))\n",
    "        \n",
    "plt.plot(np.log(plot_n3), np.log(plot_time3), label = 'Matrix')\n",
    "\n",
    "plt.legend()\n",
    "\n"
   ]
  },
  {
   "cell_type": "markdown",
   "id": "c8c74da7-51fa-4189-b48b-506282378807",
   "metadata": {},
   "source": [
    "### d) Discuss the complexity of each method."
   ]
  },
  {
   "cell_type": "markdown",
   "id": "0fa55503-4bd3-4b0f-9858-04c4b185484c",
   "metadata": {},
   "source": [
    "### Recursion:\n",
    "Above Recursion method actually has the worst runtime among, being O(2^n). Which means, for a give size amount of inputs, the execution time grows as an exponential curve. Once the input gets a little larger, the runtime growth increase trenmendously, making this method an extremely inefficient solution."
   ]
  },
  {
   "cell_type": "markdown",
   "id": "ac365d1d-64b8-441f-aa02-1396c408ea43",
   "metadata": {},
   "source": [
    "### Tabulation:\n",
    "Tabulation method has linear growth rate, i.e., has a runtime of O(n), linear runtime. The runtime of the execution is directly porpotional to the given size amount of inputs, this is usually the type of solution we want when solving physics problems."
   ]
  },
  {
   "cell_type": "markdown",
   "id": "46d3f590-169b-4582-97d9-23b8104bce9d",
   "metadata": {},
   "source": [
    "### Maxtrix:\n",
    "   \n",
    "Matrix method is quite efficient, which according to the graph, has a logarithmic time complexity, O(logn). An such advanced solution usually occurs in algorithm that n divides by some constant, but this method are often more complexed, involves more mathematical steps. This method is good for large amount of data input, of which can be processed fairly quicly."
   ]
  }
 ],
 "metadata": {
  "kernelspec": {
   "display_name": "Python 3 (ipykernel)",
   "language": "python",
   "name": "python3"
  },
  "language_info": {
   "codemirror_mode": {
    "name": "ipython",
    "version": 3
   },
   "file_extension": ".py",
   "mimetype": "text/x-python",
   "name": "python",
   "nbconvert_exporter": "python",
   "pygments_lexer": "ipython3",
   "version": "3.10.8"
  }
 },
 "nbformat": 4,
 "nbformat_minor": 5
}
