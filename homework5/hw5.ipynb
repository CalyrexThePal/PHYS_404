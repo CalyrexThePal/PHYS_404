{
 "cells": [
  {
   "cell_type": "markdown",
   "id": "247760fa-52bc-4f06-b663-6059a8a2e13e",
   "metadata": {
    "tags": []
   },
   "source": [
    "# PHYS 404 Homework 5 2/19/2023\n",
    "## Homework: using Newton-Raphson method to solve above equation arrays\n",
    "### Hint: first you need to derive the partical derivative of the equation arrays.  \n",
    "### You can do it eitheranalytically by hand or numerically using method we learned in the last lecture."
   ]
  },
  {
   "cell_type": "code",
   "execution_count": 2,
   "id": "5b37d92e-c6f6-480e-948e-4ab34de7fd7e",
   "metadata": {},
   "outputs": [
    {
     "name": "stdout",
     "output_type": "stream",
     "text": [
      "Converged after  4  iterations.\n",
      "Root is at x1 = 2.0  x2 =  3.0\n"
     ]
    }
   ],
   "source": [
    "import matplotlib.pyplot as plt\n",
    "import numpy as np\n",
    "\n",
    "\n",
    "def f1(x1,x2):\n",
    "    return (x1*x1+x1*x2-10.)\n",
    "\n",
    "def f2(x1,x2):\n",
    "    return (x2+ 3*x1*x2*x2 - 57)\n",
    "\n",
    "# apply analytic evaluations of each functions respect to either x1 or x2\n",
    "# derivative of function 1 with respect to x1\n",
    "def f1x1(x1,x2):\n",
    "    return (2*x1 + x2)\n",
    "\n",
    "# derivative of function 1 with respect to x2\n",
    "def f1x2(x1,x2):\n",
    "    return (x1)\n",
    "  \n",
    "# derivative of function 2 with respect to x1\n",
    "def f2x1(x1,x2):\n",
    "    return (3*x2*x2)\n",
    "\n",
    "# derivative of function 2 with respect to x2\n",
    "def f2x2(x1,x2):\n",
    "    return (6*x1*x2 + 1)\n",
    "\n",
    "# dx1 = (b*f2 - d*f1) / (ad - bc)\n",
    "def dx1(f1,f2,f1x1,f1x2,f2x1,f2x2,x1,x2):\n",
    "    return ( (f1x2(x1,x2)*f2(x1,x2) - f2x2(x1,x2)*f1(x1,x2)) / \n",
    "            (f1x1(x1,x2)*f2x2(x1,x2) - f1x2(x1,x2)*f2x1(x1,x2)) )\n",
    "\n",
    "# dx2 = (c*f1 - a*f2) / (ad - bc)\n",
    "def dx2(f1,f2,f1x1,f1x2,f2x1,f2x2,x1,x2):\n",
    "    return ( (f2x1(x1,x2)*f1(x1,x2) - f1x1(x1,x2)*f2(x1,x2)) /\n",
    "            (f1x1(x1,x2)*f2x2(x1,x2) - f1x2(x1,x2)*f2x1(x1,x2)) )\n",
    "\n",
    "# filling in the initial guess    \n",
    "x1 = 1.5\n",
    "x2 = 4.5\n",
    "# other constant parameters for the loop\n",
    "eps = 1.e-8\n",
    "nmax = 100\n",
    "for i in range(nmax):\n",
    "    # compute the next guess\n",
    "    x1 = x1 + dx1(f1,f2,f1x1,f1x2,f2x1,f2x2,x1,x2)\n",
    "    x2 = x2 + dx2(f1,f2,f1x1,f1x2,f2x1,f2x2,x1,x2)\n",
    "    # check if the next guess is close enough to the previous guess\n",
    "    # until f1(x1,x2)<eps and f2(x1,x2)<eps\n",
    "    if (abs(f1(x1,x2)) < eps and\n",
    "        abs(f2(x1,x2)) < eps ) :\n",
    "        print(\"Converged after \", i, \" iterations.\")\n",
    "        print(\"Root is at x1 =\", x1, \" x2 = \", x2)\n",
    "        break\n",
    "    if (i == nmax - 1):\n",
    "        print(\"Failed to converge after \", i, \" iterations.\")\n",
    "        break"
   ]
  },
  {
   "cell_type": "code",
   "execution_count": null,
   "id": "7d6d6a5d-b9b4-4220-8e2e-204db051239a",
   "metadata": {},
   "outputs": [],
   "source": []
  }
 ],
 "metadata": {
  "kernelspec": {
   "display_name": "Python 3 (ipykernel)",
   "language": "python",
   "name": "python3"
  },
  "language_info": {
   "codemirror_mode": {
    "name": "ipython",
    "version": 3
   },
   "file_extension": ".py",
   "mimetype": "text/x-python",
   "name": "python",
   "nbconvert_exporter": "python",
   "pygments_lexer": "ipython3",
   "version": "3.10.8"
  }
 },
 "nbformat": 4,
 "nbformat_minor": 5
}
